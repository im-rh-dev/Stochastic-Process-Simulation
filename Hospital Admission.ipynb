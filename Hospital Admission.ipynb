{
 "cells": [
  {
   "cell_type": "code",
   "execution_count": null,
   "metadata": {},
   "outputs": [],
   "source": [
    "import pandas as pd\n",
    "import numpy as np\n",
    "import matplotlib.pyplot as plt\n",
    "from sklearn.model_selection import train_test_split"
   ]
  },
  {
   "cell_type": "code",
   "execution_count": 124,
   "metadata": {},
   "outputs": [],
   "source": [
    "data = pd.read_csv('dataadd.csv')\n",
    "hospital_data = data[['D.O.A', 'MRD No.']]"
   ]
  },
  {
   "cell_type": "code",
   "execution_count": 125,
   "metadata": {},
   "outputs": [
    {
     "name": "stderr",
     "output_type": "stream",
     "text": [
      "C:\\Users\\DELL\\AppData\\Local\\Temp\\ipykernel_1636\\500292388.py:1: SettingWithCopyWarning: \n",
      "A value is trying to be set on a copy of a slice from a DataFrame.\n",
      "Try using .loc[row_indexer,col_indexer] = value instead\n",
      "\n",
      "See the caveats in the documentation: https://pandas.pydata.org/pandas-docs/stable/user_guide/indexing.html#returning-a-view-versus-a-copy\n",
      "  hospital_data['D.O.A'] = pd.to_datetime(hospital_data['D.O.A'], errors='coerce')\n"
     ]
    }
   ],
   "source": [
    "hospital_data['D.O.A'] = pd.to_datetime(hospital_data['D.O.A'], errors='coerce')"
   ]
  },
  {
   "cell_type": "code",
   "execution_count": 126,
   "metadata": {},
   "outputs": [],
   "source": [
    "hospital_data = hospital_data[(hospital_data['D.O.A'].dt.year == 2018)]"
   ]
  },
  {
   "cell_type": "code",
   "execution_count": 127,
   "metadata": {},
   "outputs": [],
   "source": [
    "hospital_data['MRD No.'] = pd.to_numeric(hospital_data['MRD No.'], errors='coerce')"
   ]
  },
  {
   "cell_type": "code",
   "execution_count": 128,
   "metadata": {},
   "outputs": [],
   "source": [
    "#daily_admissions = hospital_data.groupby('D.O.A').agg(Total_Admissions=('MRD No.', 'sum')).reset_index()"
   ]
  },
  {
   "cell_type": "code",
   "execution_count": 129,
   "metadata": {},
   "outputs": [],
   "source": [
    "weekly_admissions_df = daily_admissions.groupby(pd.Grouper(key='D.O.A', freq='W')).agg(Total_Admissions=('Total_Admissions', 'sum')).reset_index()"
   ]
  },
  {
   "cell_type": "code",
   "execution_count": 130,
   "metadata": {},
   "outputs": [],
   "source": [
    "weekly_admissions_df = weekly_admissions_df.dropna()"
   ]
  },
  {
   "cell_type": "code",
   "execution_count": 131,
   "metadata": {},
   "outputs": [
    {
     "data": {
      "text/html": [
       "<div>\n",
       "<style scoped>\n",
       "    .dataframe tbody tr th:only-of-type {\n",
       "        vertical-align: middle;\n",
       "    }\n",
       "\n",
       "    .dataframe tbody tr th {\n",
       "        vertical-align: top;\n",
       "    }\n",
       "\n",
       "    .dataframe thead th {\n",
       "        text-align: right;\n",
       "    }\n",
       "</style>\n",
       "<table border=\"1\" class=\"dataframe\">\n",
       "  <thead>\n",
       "    <tr style=\"text-align: right;\">\n",
       "      <th></th>\n",
       "      <th>D.O.A</th>\n",
       "      <th>Total_Admissions</th>\n",
       "    </tr>\n",
       "  </thead>\n",
       "  <tbody>\n",
       "    <tr>\n",
       "      <th>0</th>\n",
       "      <td>2018-01-07</td>\n",
       "      <td>84509413</td>\n",
       "    </tr>\n",
       "    <tr>\n",
       "      <th>1</th>\n",
       "      <td>2018-01-14</td>\n",
       "      <td>53441471</td>\n",
       "    </tr>\n",
       "    <tr>\n",
       "      <th>2</th>\n",
       "      <td>2018-01-21</td>\n",
       "      <td>12698792</td>\n",
       "    </tr>\n",
       "    <tr>\n",
       "      <th>3</th>\n",
       "      <td>2018-01-28</td>\n",
       "      <td>6731209</td>\n",
       "    </tr>\n",
       "    <tr>\n",
       "      <th>4</th>\n",
       "      <td>2018-02-04</td>\n",
       "      <td>38183630</td>\n",
       "    </tr>\n",
       "  </tbody>\n",
       "</table>\n",
       "</div>"
      ],
      "text/plain": [
       "       D.O.A  Total_Admissions\n",
       "0 2018-01-07          84509413\n",
       "1 2018-01-14          53441471\n",
       "2 2018-01-21          12698792\n",
       "3 2018-01-28           6731209\n",
       "4 2018-02-04          38183630"
      ]
     },
     "execution_count": 131,
     "metadata": {},
     "output_type": "execute_result"
    }
   ],
   "source": [
    "weekly_admissions_df.head()"
   ]
  },
  {
   "cell_type": "code",
   "execution_count": 132,
   "metadata": {},
   "outputs": [
    {
     "data": {
      "text/plain": [
       "(53, 2)"
      ]
     },
     "execution_count": 132,
     "metadata": {},
     "output_type": "execute_result"
    }
   ],
   "source": [
    "weekly_admissions_df.shape"
   ]
  },
  {
   "cell_type": "code",
   "execution_count": 133,
   "metadata": {},
   "outputs": [],
   "source": [
    "train_data, test_data = train_test_split(weekly_admissions_df, test_size=0.3, random_state=42)\n"
   ]
  },
  {
   "cell_type": "code",
   "execution_count": 134,
   "metadata": {},
   "outputs": [
    {
     "name": "stdout",
     "output_type": "stream",
     "text": [
      "Training set size: 37\n",
      "Testing set size: 16\n"
     ]
    }
   ],
   "source": [
    "print(f\"Training set size: {len(train_data)}\")\n",
    "print(f\"Testing set size: {len(test_data)}\")"
   ]
  },
  {
   "cell_type": "code",
   "execution_count": 135,
   "metadata": {},
   "outputs": [
    {
     "name": "stdout",
     "output_type": "stream",
     "text": [
      "Estimated lambda: 31693509.75471698\n"
     ]
    }
   ],
   "source": [
    "lambda_train = train_data['Total_Admissions'].sum() / len(train_data)\n",
    "print(f\"Estimated lambda: {lambda_t_train}\")"
   ]
  },
  {
   "cell_type": "code",
   "execution_count": 136,
   "metadata": {},
   "outputs": [
    {
     "name": "stdout",
     "output_type": "stream",
     "text": [
      "Lambda Testing Data: 32646068.125\n"
     ]
    }
   ],
   "source": [
    "lambda_test = test_data['Total_Admissions'].sum() / len(test_data)\n",
    "print(f\"Lambda Testing Data: {lambda_test}\")\n"
   ]
  },
  {
   "cell_type": "code",
   "execution_count": 137,
   "metadata": {},
   "outputs": [
    {
     "name": "stdout",
     "output_type": "stream",
     "text": [
      "The process appears homogeneous.\n"
     ]
    }
   ],
   "source": [
    "if abs(lambda_train - lambda_test) / lambda_train < 0.1: \n",
    "    print(\"The process appears homogeneous.\")\n",
    "else:\n",
    "    print(\"The process may not be homogeneous.\")"
   ]
  },
  {
   "cell_type": "code",
   "execution_count": 138,
   "metadata": {},
   "outputs": [],
   "source": [
    "#Simulated non-homogenous poisson process\n",
    "def simulate_nhpp(lambda_t):\n",
    "    simulated_admissions = []\n",
    "    for rate in lambda_t:\n",
    "        admissions = np.random.poisson(rate) \n",
    "        simulated_admissions.append(admissions)\n",
    "    return np.array(simulated_admissions)"
   ]
  },
  {
   "cell_type": "code",
   "execution_count": 139,
   "metadata": {},
   "outputs": [],
   "source": [
    "def simulate_hpp(lambda_rate, num_periods):\n",
    "    return np.random.poisson(lam=lambda_rate, size=num_periods)"
   ]
  },
  {
   "cell_type": "code",
   "execution_count": 140,
   "metadata": {},
   "outputs": [],
   "source": [
    "hpp_simulated_admissions = np.random.poisson(lam=lambda_test, size=len(test_data))"
   ]
  },
  {
   "cell_type": "code",
   "execution_count": 141,
   "metadata": {},
   "outputs": [],
   "source": [
    "test_data['Simulated_Admissions'] = hpp_simulated_admissions"
   ]
  },
  {
   "cell_type": "code",
   "execution_count": 142,
   "metadata": {},
   "outputs": [
    {
     "data": {
      "text/html": [
       "<div>\n",
       "<style scoped>\n",
       "    .dataframe tbody tr th:only-of-type {\n",
       "        vertical-align: middle;\n",
       "    }\n",
       "\n",
       "    .dataframe tbody tr th {\n",
       "        vertical-align: top;\n",
       "    }\n",
       "\n",
       "    .dataframe thead th {\n",
       "        text-align: right;\n",
       "    }\n",
       "</style>\n",
       "<table border=\"1\" class=\"dataframe\">\n",
       "  <thead>\n",
       "    <tr style=\"text-align: right;\">\n",
       "      <th></th>\n",
       "      <th>D.O.A</th>\n",
       "      <th>Total_Admissions</th>\n",
       "      <th>Simulated_Admissions</th>\n",
       "    </tr>\n",
       "  </thead>\n",
       "  <tbody>\n",
       "    <tr>\n",
       "      <th>19</th>\n",
       "      <td>2018-05-20</td>\n",
       "      <td>5619304</td>\n",
       "      <td>32642060</td>\n",
       "    </tr>\n",
       "    <tr>\n",
       "      <th>41</th>\n",
       "      <td>2018-10-21</td>\n",
       "      <td>7042460</td>\n",
       "      <td>32640056</td>\n",
       "    </tr>\n",
       "    <tr>\n",
       "      <th>47</th>\n",
       "      <td>2018-12-02</td>\n",
       "      <td>30313426</td>\n",
       "      <td>32645667</td>\n",
       "    </tr>\n",
       "    <tr>\n",
       "      <th>12</th>\n",
       "      <td>2018-04-01</td>\n",
       "      <td>26567821</td>\n",
       "      <td>32642845</td>\n",
       "    </tr>\n",
       "    <tr>\n",
       "      <th>43</th>\n",
       "      <td>2018-11-04</td>\n",
       "      <td>41312811</td>\n",
       "      <td>32646231</td>\n",
       "    </tr>\n",
       "    <tr>\n",
       "      <th>5</th>\n",
       "      <td>2018-02-11</td>\n",
       "      <td>71663903</td>\n",
       "      <td>32648681</td>\n",
       "    </tr>\n",
       "    <tr>\n",
       "      <th>17</th>\n",
       "      <td>2018-05-06</td>\n",
       "      <td>57730637</td>\n",
       "      <td>32652825</td>\n",
       "    </tr>\n",
       "    <tr>\n",
       "      <th>50</th>\n",
       "      <td>2018-12-23</td>\n",
       "      <td>5841902</td>\n",
       "      <td>32641151</td>\n",
       "    </tr>\n",
       "    <tr>\n",
       "      <th>3</th>\n",
       "      <td>2018-01-28</td>\n",
       "      <td>6731209</td>\n",
       "      <td>32648800</td>\n",
       "    </tr>\n",
       "    <tr>\n",
       "      <th>32</th>\n",
       "      <td>2018-08-19</td>\n",
       "      <td>4858230</td>\n",
       "      <td>32649865</td>\n",
       "    </tr>\n",
       "    <tr>\n",
       "      <th>13</th>\n",
       "      <td>2018-04-08</td>\n",
       "      <td>50313896</td>\n",
       "      <td>32646254</td>\n",
       "    </tr>\n",
       "    <tr>\n",
       "      <th>8</th>\n",
       "      <td>2018-03-04</td>\n",
       "      <td>50384260</td>\n",
       "      <td>32644454</td>\n",
       "    </tr>\n",
       "    <tr>\n",
       "      <th>26</th>\n",
       "      <td>2018-07-08</td>\n",
       "      <td>72890654</td>\n",
       "      <td>32648780</td>\n",
       "    </tr>\n",
       "    <tr>\n",
       "      <th>6</th>\n",
       "      <td>2018-02-18</td>\n",
       "      <td>19926584</td>\n",
       "      <td>32643333</td>\n",
       "    </tr>\n",
       "    <tr>\n",
       "      <th>34</th>\n",
       "      <td>2018-09-02</td>\n",
       "      <td>32956363</td>\n",
       "      <td>32639407</td>\n",
       "    </tr>\n",
       "    <tr>\n",
       "      <th>4</th>\n",
       "      <td>2018-02-04</td>\n",
       "      <td>38183630</td>\n",
       "      <td>32643506</td>\n",
       "    </tr>\n",
       "  </tbody>\n",
       "</table>\n",
       "</div>"
      ],
      "text/plain": [
       "        D.O.A  Total_Admissions  Simulated_Admissions\n",
       "19 2018-05-20           5619304              32642060\n",
       "41 2018-10-21           7042460              32640056\n",
       "47 2018-12-02          30313426              32645667\n",
       "12 2018-04-01          26567821              32642845\n",
       "43 2018-11-04          41312811              32646231\n",
       "5  2018-02-11          71663903              32648681\n",
       "17 2018-05-06          57730637              32652825\n",
       "50 2018-12-23           5841902              32641151\n",
       "3  2018-01-28           6731209              32648800\n",
       "32 2018-08-19           4858230              32649865\n",
       "13 2018-04-08          50313896              32646254\n",
       "8  2018-03-04          50384260              32644454\n",
       "26 2018-07-08          72890654              32648780\n",
       "6  2018-02-18          19926584              32643333\n",
       "34 2018-09-02          32956363              32639407\n",
       "4  2018-02-04          38183630              32643506"
      ]
     },
     "execution_count": 142,
     "metadata": {},
     "output_type": "execute_result"
    }
   ],
   "source": [
    "test_data"
   ]
  },
  {
   "cell_type": "code",
   "execution_count": 145,
   "metadata": {},
   "outputs": [
    {
     "name": "stdout",
     "output_type": "stream",
     "text": [
      "        D.O.A  HPP_Simulated_Admissions  Tested_Admissions\n",
      "19 2018-05-20                  32642060            5619304\n",
      "41 2018-10-21                  32640056            7042460\n",
      "47 2018-12-02                  32645667           30313426\n",
      "12 2018-04-01                  32642845           26567821\n",
      "43 2018-11-04                  32646231           41312811\n"
     ]
    }
   ],
   "source": [
    "simulated_data = test_data.copy()\n",
    "simulated_data['HPP_Simulated_Admissions'] = hpp_simulated_admissions\n",
    "simulated_data['Tested_Admissions'] = test_data['Total_Admissions']\n",
    "\n",
    "print(simulated_data[['D.O.A', 'HPP_Simulated_Admissions', 'Tested_Admissions']].head())\n"
   ]
  },
  {
   "cell_type": "markdown",
   "metadata": {},
   "source": [
    "1. Interpretation: In this case, the simulated admissions are again significantly higher than the tested admissions. The model seems to consistently predict a much higher number of admissions than what was actually recorded. This could indicate that the simulation's lambda parameter might be set too high or that external factors influencing admissions (e.g., seasonal variations) are not captured well by the model.\n",
    "2. Overall, comparing the two sets helps identify areas where the simulation is performing well and areas where adjustments might be needed"
   ]
  },
  {
   "cell_type": "code",
   "execution_count": 146,
   "metadata": {},
   "outputs": [
    {
     "name": "stdout",
     "output_type": "stream",
     "text": [
      "Tested Data Summary:\n"
     ]
    },
    {
     "data": {
      "text/plain": [
       "count    1.600000e+01\n",
       "mean     3.264607e+07\n",
       "std      2.346102e+07\n",
       "min      4.858230e+06\n",
       "25%      6.964647e+06\n",
       "50%      3.163489e+07\n",
       "75%      5.033149e+07\n",
       "max      7.289065e+07\n",
       "Name: Total_Admissions, dtype: float64"
      ]
     },
     "execution_count": 146,
     "metadata": {},
     "output_type": "execute_result"
    }
   ],
   "source": [
    "print(\"Tested Data Summary:\")\n",
    "test_data['Total_Admissions'].describe()"
   ]
  },
  {
   "cell_type": "code",
   "execution_count": 147,
   "metadata": {},
   "outputs": [
    {
     "name": "stdout",
     "output_type": "stream",
     "text": [
      "Simulated Data Summary:\n",
      "count    1.600000e+01\n",
      "mean     3.264524e+07\n",
      "std      3.820018e+03\n",
      "min      3.263941e+07\n",
      "25%      3.264265e+07\n",
      "50%      3.264506e+07\n",
      "75%      3.264871e+07\n",
      "max      3.265282e+07\n",
      "Name: Simulated_Admissions, dtype: float64\n"
     ]
    }
   ],
   "source": [
    "print(\"Simulated Data Summary:\")\n",
    "print(test_data['Simulated_Admissions'].describe())"
   ]
  },
  {
   "cell_type": "code",
   "execution_count": 149,
   "metadata": {},
   "outputs": [
    {
     "data": {
      "image/png": "[encoded data removed]",
      "text/plain": [
       "<Figure size 640x480 with 2 Axes>"
      ]
     },
     "metadata": {},
     "output_type": "display_data"
    }
   ],
   "source": [
    "# First subplot: Tested Admissions\n",
    "plt.subplot(1, 2, 1)  \n",
    "plt.hist(simulated_data['Tested_Admissions'], bins=20, alpha=0.7, color='blue', label='Tested Admissions')\n",
    "plt.title('Tested Admissions')\n",
    "plt.xlabel('Number of Admissions')\n",
    "plt.ylabel('Frequency')\n",
    "plt.legend(loc='upper right')\n",
    "\n",
    "# Second subplot: Simulated Admissions (HPP)\n",
    "plt.subplot(1, 2, 2) \n",
    "plt.hist(simulated_data['HPP_Simulated_Admissions'], bins=20, alpha=0.7, color='red', label='Simulated Admissions (HPP)')\n",
    "plt.title('Simulated Admissions (HPP)')\n",
    "plt.xlabel('Number of Admissions')\n",
    "plt.ylabel('Frequency')\n",
    "plt.legend(loc='upper right')\n",
    "\n",
    "plt.tight_layout()\n",
    "plt.show()\n"
   ]
  }
 ],
 "metadata": {
  "kernelspec": {
   "display_name": "Python 3",
   "language": "python",
   "name": "python3"
  },
  "language_info": {
   "codemirror_mode": {
    "name": "ipython",
    "version": 3
   },
   "file_extension": ".py",
   "mimetype": "text/x-python",
   "name": "python",
   "nbconvert_exporter": "python",
   "pygments_lexer": "ipython3",
   "version": "3.11.9"
  }
 },
 "nbformat": 4,
 "nbformat_minor": 2
}
